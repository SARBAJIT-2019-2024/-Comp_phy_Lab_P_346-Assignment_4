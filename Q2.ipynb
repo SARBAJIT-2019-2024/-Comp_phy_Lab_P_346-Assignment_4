{
 "cells": [
  {
   "cell_type": "code",
   "execution_count": 1,
   "source": [
    "#Question 2:\r\n",
    "#Check whether the inverse of the following matrix exists. If yes, find the inverse and verify. \r\n",
    "\r\n",
    "\r\n",
    "#  0 2 8 6\r\n",
    "#  0 0 1 2\r\n",
    "#  0 1 0 1\r\n",
    "#  3 7 1 0\r\n",
    "\r\n",
    "\r\n",
    "\r\n",
    "\r\n",
    "from My_Lib import *\r\n",
    "\r\n",
    "list_C=[] #calling the matrix \r\n",
    "with open(\"matrix2.txt\") as matC:\r\n",
    "    for k in matC:\r\n",
    "        list_C.append(list(map(float, k.split())))\r\n",
    "\r\n",
    "Inv_ =LU_inverse(list_C) #calling the inverse function\r\n",
    "\r\n",
    "#printing the inverse in matrix form\r\n",
    "if Inv_!=None:\r\n",
    "    print('Yes!inverse exist!,The inverse of the matrix is A^(-1)=')\r\n",
    "\r\n",
    "    for i in Inv_:\r\n",
    "        print(i)    \r\n",
    "\r\n",
    "\r\n",
    "#verifying the inverse\r\n",
    "\r\n",
    "    print(\"\\nVerifying the inverse\")\r\n",
    "    print(\" Hence The value of AA^(-1)=\") \r\n",
    "    I= matrix_mul(list_C,Inv_)\r\n",
    "# Prints the inverse matrix in readable form\r\n",
    "    for i in range(4):\r\n",
    "        for j in range(4):\r\n",
    "            print(round(I[i][j],2),end =' ') #rounded upto 2 places of decimal\r\n",
    "        print('')\r\n",
    "\r\n"
   ],
   "outputs": [
    {
     "output_type": "stream",
     "name": "stdout",
     "text": [
      "Yes!inverse exist!,The inverse of the matrix is A^(-1)=\n",
      "[-0.25, 1.66667, -1.83333, 0.33333]\n",
      "[0.08333, -0.66667, 0.83333, 0.0]\n",
      "[0.16667, -0.33333, -0.33333, 0.0]\n",
      "[-0.08333, 0.66667, 0.16667, 0.0]\n",
      "\n",
      "Verifying the inverse\n",
      " Hence The value of AA^(-1)=\n",
      "1.0 0.0 0.0 0.0 \n",
      "0.0 1.0 0.0 0.0 \n",
      "0.0 0.0 1.0 0.0 \n",
      "-0.0 -0.0 -0.0 1.0 \n"
     ]
    }
   ],
   "metadata": {}
  }
 ],
 "metadata": {
  "orig_nbformat": 4,
  "language_info": {
   "name": "python",
   "version": "3.9.6",
   "mimetype": "text/x-python",
   "codemirror_mode": {
    "name": "ipython",
    "version": 3
   },
   "pygments_lexer": "ipython3",
   "nbconvert_exporter": "python",
   "file_extension": ".py"
  },
  "kernelspec": {
   "name": "python3",
   "display_name": "Python 3.9.6 64-bit"
  },
  "interpreter": {
   "hash": "dcacb0086e9a4f4eabd41c33bf4faac5ea0a3337ed3f5eff0680afa930572c04"
  }
 },
 "nbformat": 4,
 "nbformat_minor": 2
}