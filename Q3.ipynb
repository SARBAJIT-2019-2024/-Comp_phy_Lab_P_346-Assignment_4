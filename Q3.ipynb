{
 "cells": [
  {
   "cell_type": "code",
   "execution_count": 5,
   "source": [
    "#Question 3:\r\n",
    "#Use Cholesky decomposition to solve the equation A · x = b where, \r\n",
    "\r\n",
    "#A =10.0 1.0 0.0 2.5\r\n",
    "   #1.0 12.0 −0.3 1.1\r\n",
    "   #0.0 −0.3 9.5 0.0\r\n",
    "   #2.5 1.1 0.0 6.0\r\n",
    "\r\n",
    "#and b =#2.20\r\n",
    "        #2.85\r\n",
    "        #2.79\r\n",
    "        #2.87\r\n",
    "\r\n",
    "\r\n",
    "from My_Lib import *\r\n",
    "\r\n",
    "#Calling the in a readable form\r\n",
    "list_C=[]\r\n",
    "with open(\"matrix3.txt\") as matC:\r\n",
    "    for k in matC:\r\n",
    "        list_C.append(list(map(float, k.split())))\r\n",
    "\r\n",
    "\r\n",
    "#Printing the solutions due to cholesky's condition\r\n",
    "x =Cholesky_Solver(list_C)\r\n",
    "print(\"x_1 = %.2f\" %x[0])\r\n",
    "print(\"x_2 = %.2f\" %x[1])\r\n",
    "print(\"x_3 = %.2f\" %x[2])\r\n",
    "print(\"x_4 = %.2f\" %x[3])\r\n",
    "\r\n"
   ],
   "outputs": [
    {
     "output_type": "stream",
     "name": "stdout",
     "text": [
      "The solutions of the system of linear equations by Cholesky's method is\n",
      "x_1 = 0.10\n",
      "x_2 = 0.20\n",
      "x_3 = 0.30\n",
      "x_4 = 0.40\n"
     ]
    }
   ],
   "metadata": {}
  }
 ],
 "metadata": {
  "orig_nbformat": 4,
  "language_info": {
   "name": "python",
   "version": "3.9.6",
   "mimetype": "text/x-python",
   "codemirror_mode": {
    "name": "ipython",
    "version": 3
   },
   "pygments_lexer": "ipython3",
   "nbconvert_exporter": "python",
   "file_extension": ".py"
  },
  "kernelspec": {
   "name": "python3",
   "display_name": "Python 3.9.6 64-bit"
  },
  "interpreter": {
   "hash": "dcacb0086e9a4f4eabd41c33bf4faac5ea0a3337ed3f5eff0680afa930572c04"
  }
 },
 "nbformat": 4,
 "nbformat_minor": 2
}