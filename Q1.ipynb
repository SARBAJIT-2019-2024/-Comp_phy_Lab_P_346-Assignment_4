{
 "cells": [
  {
   "cell_type": "code",
   "execution_count": 1,
   "source": [
    "#Question 1:\r\n",
    "#Use LU decomposition, both Crout’s and Doolittle’s method, to solve for xi’s and hence compare your answers. [2+2]\r\n",
    "\r\n",
    "# x1 + x3 + 2x4 = 6\r\n",
    "# x2 − 2x3 = −3\r\n",
    "# x1 + 2x2 − x3 = −2\r\n",
    "# 2x1 + x2 + 3x3 − 2x4 = 0\r\n",
    "\r\n",
    "\r\n",
    "from My_Lib import *\r\n",
    "\r\n",
    "#calling the matrix in readable form\r\n",
    "list_C=[]\r\n",
    "with open(\"matrix1.txt\") as matC:\r\n",
    "    for k in matC:\r\n",
    "        list_C.append(list(map(float, k.split())))\r\n",
    "\r\n",
    "\r\n",
    "\r\n",
    "#Printing the solutions of crout\r\n",
    "x1 = linear_solver_crout(list_C)\r\n",
    "if x1!=None:\r\n",
    "    print(\"x_1 =\", x1[0])\r\n",
    "    print(\"x_2 =\", x1[1])\r\n",
    "    print(\"x_3 =\", x1[2])\r\n",
    "    print(\"x_4 =\", x1[3])\r\n",
    "\r\n",
    "#Printing the solutions of do little\r\n",
    "x2 = linear_solver_do_little(list_C)\r\n",
    "if x2!=None:\r\n",
    "    print(\"x_1 =\", x2[0])\r\n",
    "    print(\"x_2 =\", x2[1])\r\n",
    "    print(\"x_3 =\", x2[2])\r\n",
    "    print(\"x_4 =\", x2[3])\r\n",
    "\r\n",
    "if x1 == x2:\r\n",
    "    print(\"\\nHence, Solutions for both methods matched! \")\r\n",
    "else:\r\n",
    "    print(\"No they didn't match!\")\r\n",
    "\r\n",
    "\r\n",
    "\r\n",
    "\r\n",
    "\r\n",
    "\r\n",
    "    \r\n"
   ],
   "outputs": [
    {
     "output_type": "stream",
     "name": "stdout",
     "text": [
      "The solutions of the system of linear equations by Crout's method is\n",
      "x_1 = 1.0\n",
      "x_2 = -1.0\n",
      "x_3 = 1.0\n",
      "x_4 = 2.0\n",
      "The solutions of the system of linear equations by Dolittle's method is\n",
      "x_1 = 1.0\n",
      "x_2 = -1.0\n",
      "x_3 = 1.0\n",
      "x_4 = 2.0\n",
      "\n",
      "Hence, Solutions for both methods matched! \n"
     ]
    }
   ],
   "metadata": {}
  }
 ],
 "metadata": {
  "orig_nbformat": 4,
  "language_info": {
   "name": "python",
   "version": "3.9.6",
   "mimetype": "text/x-python",
   "codemirror_mode": {
    "name": "ipython",
    "version": 3
   },
   "pygments_lexer": "ipython3",
   "nbconvert_exporter": "python",
   "file_extension": ".py"
  },
  "kernelspec": {
   "name": "python3",
   "display_name": "Python 3.9.6 64-bit"
  },
  "interpreter": {
   "hash": "dcacb0086e9a4f4eabd41c33bf4faac5ea0a3337ed3f5eff0680afa930572c04"
  }
 },
 "nbformat": 4,
 "nbformat_minor": 2
}